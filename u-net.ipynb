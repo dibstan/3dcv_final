{
 "cells": [
  {
   "cell_type": "code",
   "execution_count": 6,
   "metadata": {},
   "outputs": [
    {
     "name": "stdout",
     "output_type": "stream",
     "text": [
      "Requirement already up-to-date: segmentation-models-pytorch in c:\\programdata\\anaconda3\\envs\\ml_homework\\lib\\site-packages (0.3.2)\n",
      "Requirement already satisfied, skipping upgrade: pillow in c:\\programdata\\anaconda3\\envs\\ml_homework\\lib\\site-packages (from segmentation-models-pytorch) (8.0.1)\n",
      "Requirement already satisfied, skipping upgrade: torchvision>=0.5.0 in c:\\programdata\\anaconda3\\envs\\ml_homework\\lib\\site-packages (from segmentation-models-pytorch) (0.9.1)\n",
      "Requirement already satisfied, skipping upgrade: pretrainedmodels==0.7.4 in c:\\programdata\\anaconda3\\envs\\ml_homework\\lib\\site-packages (from segmentation-models-pytorch) (0.7.4)\n",
      "Requirement already satisfied, skipping upgrade: timm==0.6.12 in c:\\programdata\\anaconda3\\envs\\ml_homework\\lib\\site-packages (from segmentation-models-pytorch) (0.6.12)\n",
      "Requirement already satisfied, skipping upgrade: tqdm in c:\\programdata\\anaconda3\\envs\\ml_homework\\lib\\site-packages (from segmentation-models-pytorch) (4.62.3)\n",
      "Requirement already satisfied, skipping upgrade: efficientnet-pytorch==0.7.1 in c:\\programdata\\anaconda3\\envs\\ml_homework\\lib\\site-packages (from segmentation-models-pytorch) (0.7.1)\n",
      "Requirement already satisfied, skipping upgrade: numpy in c:\\programdata\\anaconda3\\envs\\ml_homework\\lib\\site-packages (from torchvision>=0.5.0->segmentation-models-pytorch) (1.19.2)\n",
      "Requirement already satisfied, skipping upgrade: torch==1.8.1 in c:\\programdata\\anaconda3\\envs\\ml_homework\\lib\\site-packages (from torchvision>=0.5.0->segmentation-models-pytorch) (1.8.1)\n",
      "Requirement already satisfied, skipping upgrade: munch in c:\\programdata\\anaconda3\\envs\\ml_homework\\lib\\site-packages (from pretrainedmodels==0.7.4->segmentation-models-pytorch) (2.5.0)\n",
      "Requirement already satisfied, skipping upgrade: huggingface-hub in c:\\programdata\\anaconda3\\envs\\ml_homework\\lib\\site-packages (from timm==0.6.12->segmentation-models-pytorch) (0.13.3)\n",
      "Requirement already satisfied, skipping upgrade: pyyaml in c:\\programdata\\anaconda3\\envs\\ml_homework\\lib\\site-packages (from timm==0.6.12->segmentation-models-pytorch) (6.0)\n",
      "Requirement already satisfied, skipping upgrade: colorama; platform_system == \"Windows\" in c:\\programdata\\anaconda3\\envs\\ml_homework\\lib\\site-packages (from tqdm->segmentation-models-pytorch) (0.4.4)\n",
      "Requirement already satisfied, skipping upgrade: typing_extensions in c:\\programdata\\anaconda3\\envs\\ml_homework\\lib\\site-packages (from torch==1.8.1->torchvision>=0.5.0->segmentation-models-pytorch) (3.7.4.3)\n",
      "Requirement already satisfied, skipping upgrade: six in c:\\programdata\\anaconda3\\envs\\ml_homework\\lib\\site-packages (from munch->pretrainedmodels==0.7.4->segmentation-models-pytorch) (1.15.0)\n",
      "Requirement already satisfied, skipping upgrade: filelock in c:\\programdata\\anaconda3\\envs\\ml_homework\\lib\\site-packages (from huggingface-hub->timm==0.6.12->segmentation-models-pytorch) (3.10.6)\n",
      "Requirement already satisfied, skipping upgrade: packaging>=20.9 in c:\\programdata\\anaconda3\\envs\\ml_homework\\lib\\site-packages (from huggingface-hub->timm==0.6.12->segmentation-models-pytorch) (23.0)\n",
      "Requirement already satisfied, skipping upgrade: requests in c:\\programdata\\anaconda3\\envs\\ml_homework\\lib\\site-packages (from huggingface-hub->timm==0.6.12->segmentation-models-pytorch) (2.25.0)\n",
      "Requirement already satisfied, skipping upgrade: urllib3<1.27,>=1.21.1 in c:\\programdata\\anaconda3\\envs\\ml_homework\\lib\\site-packages (from requests->huggingface-hub->timm==0.6.12->segmentation-models-pytorch) (1.25.11)\n",
      "Requirement already satisfied, skipping upgrade: chardet<4,>=3.0.2 in c:\\programdata\\anaconda3\\envs\\ml_homework\\lib\\site-packages (from requests->huggingface-hub->timm==0.6.12->segmentation-models-pytorch) (3.0.4)\n",
      "Requirement already satisfied, skipping upgrade: certifi>=2017.4.17 in c:\\programdata\\anaconda3\\envs\\ml_homework\\lib\\site-packages (from requests->huggingface-hub->timm==0.6.12->segmentation-models-pytorch) (2022.6.15)\n",
      "Requirement already satisfied, skipping upgrade: idna<3,>=2.5 in c:\\programdata\\anaconda3\\envs\\ml_homework\\lib\\site-packages (from requests->huggingface-hub->timm==0.6.12->segmentation-models-pytorch) (2.10)\n"
     ]
    }
   ],
   "source": [
    "import utils.unet_utils as ut\n",
    "import torch.nn as nn\n",
    "import torch.optim as optim\n",
    "import torch\n",
    "from torch.utils.data import DataLoader\n",
    "from utils.unet_utils import train\n",
    "from DataSet import ImSegDataSet\n",
    "import time\n",
    "!pip install -U segmentation-models-pytorch\n",
    "import segmentation_models_pytorch as smp"
   ]
  },
  {
   "cell_type": "code",
   "execution_count": 7,
   "metadata": {},
   "outputs": [
    {
     "name": "stdout",
     "output_type": "stream",
     "text": [
      "#########################################################################################\n",
      "INFO ABOUT THE DATA SET:\n",
      "\tMode of the data set:\ttrain\n",
      "\tNumber of instances:\t300\n",
      "\tImage: (C,H,W):\t\t(3,4000,6000)\n",
      "#########################################################################################\n",
      "\n",
      "\n",
      "#########################################################################################\n",
      "INFO ABOUT THE DATA SET:\n",
      "\tMode of the data set:\tvalidation\n",
      "\tNumber of instances:\t50\n",
      "\tImage: (C,H,W):\t\t(3,4000,6000)\n",
      "#########################################################################################\n",
      "Epoch: 1 \n",
      "\n"
     ]
    },
    {
     "name": "stderr",
     "output_type": "stream",
     "text": [
      "  0%|          | 0/300 [00:00<?, ?it/s]"
     ]
    }
   ],
   "source": [
    "#Use the cross entropy loss, since we have more than two classes per pixel\n",
    "device = torch.device('cuda' if torch.cuda.is_available() else 'cpu')\n",
    "\n",
    "def CriterionCombo(input,target):\n",
    "\n",
    "    #Get One Hot encoding of the true labels\n",
    "    y_true = torch.nn.functional.one_hot(target,24).permute(0,3,1,2).float()\n",
    "\n",
    "    assert y_true.shape == input.shape\n",
    "    \n",
    "    BCELoss = smp.losses.SoftBCEWithLogitsLoss()\n",
    "    TverskyLoss = smp.losses.TverskyLoss(mode = 'multilabel', log_loss = False)\n",
    "\n",
    "    L1 = BCELoss(y_pred = input,y_true = y_true)\n",
    "    L2 = TverskyLoss(y_pred = input,y_true = y_true)\n",
    "\n",
    "    loss = 0.5 * L1 + 0.5 * L2\n",
    "\n",
    "    return loss\n",
    "\n",
    "crit = CriterionCombo\n",
    "\n",
    "model = ut.UNet(3, 24, [64, 128, 256, 512]).to(device)\n",
    "\n",
    "optimizer = optim.Adam(model.parameters(), lr = 0.0001)\n",
    "\n",
    "#Data set and data loader for the training set\n",
    "DS_training = ImSegDataSet(PathToDataSet=\"./data/train_set/\",mode = \"train\")\n",
    "DL_training = DataLoader(dataset=DS_training,batch_size=1,shuffle=True)\n",
    "\n",
    "#Data set and data loader for the validation set\n",
    "print(\"\\n\")\n",
    "DS_validation = ImSegDataSet(PathToDataSet=\"./data/validation_set/\",mode = \"validation\")\n",
    "DL_validation = DataLoader(dataset=DS_validation,batch_size=5)\n",
    "\n",
    "'''\n",
    "result = train(\n",
    "    model = model, \n",
    "    dataloader_training = DL_training, \n",
    "    dataLoader_validation = DL_validation,\n",
    "    optimizer = optimizer, \n",
    "    criterion = crit, \n",
    "    device = device, \n",
    "    buffer_size = 5, \n",
    "    buffer_update_freq = 5,\n",
    "    buffer_pick_size = 3,\n",
    "    n_epochs = 5,\n",
    "    patch_size = 32,\n",
    "    tag = \"test_run_1_2023-03-20\"\n",
    "    )\n",
    "'''\n",
    "\n",
    "result = train(\n",
    "    model = model, \n",
    "    dataloader_training = DL_training, \n",
    "    dataLoader_validation = DL_validation,\n",
    "    optimizer = optimizer, \n",
    "    criterion = crit, \n",
    "    device = device, \n",
    "    buffer_size = 1, \n",
    "    buffer_update_freq = 1,\n",
    "    buffer_pick_size = 1,\n",
    "    n_epochs = 5,\n",
    "    patch_size = 128,\n",
    "    tag = \"test{}\".format(time.strftime(\"%d-%H%M%S\", time.gmtime(time.time()))),\n",
    "    rotation = False,\n",
    "    mirroring = True\n",
    "    )"
   ]
  },
  {
   "cell_type": "code",
   "execution_count": null,
   "metadata": {},
   "outputs": [],
   "source": [
    "import numpy as np\n",
    "import matplotlib.pyplot as plt\n",
    "plt.rcParams[\"figure.figsize\"] = (20,4)\n",
    "loss = np.loadtxt(\"./results/test26-155218/data/training_loss.txt\", skiprows=1)\n",
    "plt.plot(np.arange(len(loss)), loss)"
   ]
  }
 ],
 "metadata": {
  "interpreter": {
   "hash": "ef75a7637332af20315f48265226f4f22ed145d4eff3c0fc93dbc2d47fd214e4"
  },
  "kernelspec": {
   "display_name": "Python 3.9.12 ('ML_env')",
   "language": "python",
   "name": "python3"
  },
  "language_info": {
   "codemirror_mode": {
    "name": "ipython",
    "version": 3
   },
   "file_extension": ".py",
   "mimetype": "text/x-python",
   "name": "python",
   "nbconvert_exporter": "python",
   "pygments_lexer": "ipython3",
   "version": "3.8.5"
  },
  "orig_nbformat": 4
 },
 "nbformat": 4,
 "nbformat_minor": 2
}
