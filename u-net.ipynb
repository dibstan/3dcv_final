{
 "cells": [
  {
   "cell_type": "code",
   "execution_count": null,
   "metadata": {},
   "outputs": [],
   "source": [
    "import utils.unet_utils as ut\n",
    "import torch.nn as nn\n",
    "import torch.optim as optim\n",
    "import torch\n",
    "from torch.utils.data import DataLoader\n",
    "from utils.unet_utils import train\n",
    "from DataSet import ImSegDataSet"
   ]
  },
  {
   "cell_type": "code",
   "execution_count": null,
   "metadata": {},
   "outputs": [],
   "source": [
    "#Use the cross entropy loss, since we have more than two classes per pixel\n",
    "device = torch.device('cuda' if torch.cuda.is_available() else 'cpu')\n",
    "#device = torch.device('cpu')\n",
    "crit = nn.CrossEntropyLoss()\n",
    "model = ut.UNet(3, 24, [64, 128, 256, 512]).to(device)\n",
    "optimizer = optim.Adam(model.parameters())\n",
    "\n",
    "#Data set and data loader for the training set\n",
    "DS_training = ImSegDataSet(PathToDataSet=\"./data/train_set/\",mode = \"train\")\n",
    "DL_training = DataLoader(dataset=DS_training,batch_size=1,shuffle=True)\n",
    "\n",
    "#Data set and data loader for the validation set\n",
    "print(\"\\n\")\n",
    "DS_validation = ImSegDataSet(PathToDataSet=\"./data/validation_set/\",mode = \"validation\")\n",
    "DL_validation = DataLoader(dataset=DS_validation,batch_size=5)\n",
    "\n",
    "'''\n",
    "result = train(\n",
    "    model = model, \n",
    "    dataloader_training = DL_training, \n",
    "    dataLoader_validation = DL_validation,\n",
    "    optimizer = optimizer, \n",
    "    criterion = crit, \n",
    "    device = device, \n",
    "    buffer_size = 5, \n",
    "    buffer_update_freq = 5,\n",
    "    buffer_pick_size = 3,\n",
    "    n_epochs = 5,\n",
    "    patch_size = 32,\n",
    "    tag = \"test_run_1_2023-03-20\"\n",
    "    )\n",
    "'''\n",
    "\n",
    "result = train(\n",
    "    model = model, \n",
    "    dataloader_training = DL_training, \n",
    "    dataLoader_validation = DL_validation,\n",
    "    optimizer = optimizer, \n",
    "    criterion = crit, \n",
    "    device = device, \n",
    "    buffer_size = 1, \n",
    "    buffer_update_freq = 1,\n",
    "    buffer_pick_size = 1,\n",
    "    n_epochs = 5,\n",
    "    patch_size = 2048,\n",
    "    tag = \"test0\",\n",
    "    rotation = False,\n",
    "    mirroring = False\n",
    "    )"
   ]
  },
  {
   "cell_type": "code",
   "execution_count": null,
   "metadata": {},
   "outputs": [],
   "source": []
  }
 ],
 "metadata": {
  "kernelspec": {
   "display_name": "base",
   "language": "python",
   "name": "python3"
  },
  "language_info": {
   "codemirror_mode": {
    "name": "ipython",
    "version": 3
   },
   "file_extension": ".py",
   "mimetype": "text/x-python",
   "name": "python",
   "nbconvert_exporter": "python",
   "pygments_lexer": "ipython3",
   "version": "3.9.13"
  },
  "orig_nbformat": 4
 },
 "nbformat": 4,
 "nbformat_minor": 2
}
