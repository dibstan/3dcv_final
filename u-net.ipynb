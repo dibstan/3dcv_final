{
 "cells": [
  {
   "cell_type": "code",
   "execution_count": null,
   "metadata": {},
   "outputs": [],
   "source": [
    "import torch.nn as nn\n",
    "import torch.optim as optim\n",
    "import torch\n",
    "from torch.utils.data import DataLoader\n",
    "from DataSet import ImSegDataSet\n",
    "import time\n",
    "import segmentation_models_pytorch as smp\n",
    "import numpy as np\n",
    "import utils.unet_utils as ut"
   ]
  },
  {
   "cell_type": "code",
   "execution_count": null,
   "metadata": {},
   "outputs": [],
   "source": [
    "def initialize_weights(m):\n",
    "  if isinstance(m, nn.Conv2d):\n",
    "      nn.init.xavier_normal_(m.weight.data)\n",
    "  elif isinstance(m, nn.ConvTranspose2d):\n",
    "      nn.init.xavier_normal_(m.weight.data)"
   ]
  },
  {
   "cell_type": "code",
   "execution_count": null,
   "metadata": {},
   "outputs": [],
   "source": [
    "#Losses \n",
    "\n",
    "from utils.unet_utils import train\n",
    "\n",
    "#Use the cross entropy loss, since we have more than two classes per pixel\n",
    "device = torch.device('cuda' if torch.cuda.is_available() else 'cpu')\n",
    "\n",
    "def CriterionCombo(inputs,targets):\n",
    "\n",
    "    #Get One Hot encoding of the true labels\n",
    "    y_true = torch.nn.functional.one_hot(targets,24).permute(0,3,1,2).float()\n",
    "\n",
    "    assert y_true.shape == inputs.shape\n",
    "    \n",
    "    BCELoss = smp.losses.SoftBCEWithLogitsLoss()\n",
    "    TverskyLoss = smp.losses.TverskyLoss(mode = 'multilabel', log_loss = False)\n",
    "\n",
    "    L1 = BCELoss(y_pred = inputs,y_true = y_true)\n",
    "    L2 = TverskyLoss(y_pred = inputs,y_true = y_true)\n",
    "\n",
    "    loss = 0.5 * L1 + 0.5 * L2\n",
    "\n",
    "    return loss\n",
    "\n",
    "def DiceLoss(inputs,targets):\n",
    "    \n",
    "    #Use Tversky loss with alpha = beta = 0.5 for dice loss\n",
    "    #This has the advantage of working better with possible class imbalance\n",
    "\n",
    "    #Get One Hot encoding of the true labels\n",
    "    y_true = torch.nn.functional.one_hot(targets,24).permute(0,3,1,2).float()\n",
    "\n",
    "    assert y_true.shape == inputs.shape\n",
    "    TverskyLoss = smp.losses.TverskyLoss(mode = 'multilabel', log_loss = False)\n",
    "\n",
    "    loss = TverskyLoss(y_pred = inputs,y_true = y_true)\n",
    "\n",
    "    return loss\n",
    "\n",
    "def FocalLoss(inputs,targets):\n",
    "\n",
    "    #Use Focal loss\n",
    "\n",
    "    #Get One Hot encoding of the true labels\n",
    "    y_true = torch.nn.functional.one_hot(targets,24).permute(0,3,1,2).float()\n",
    "\n",
    "    assert y_true.shape == inputs.shape\n",
    "    FocalLoss = smp.losses.FocalLoss(mode = 'multilabel')\n",
    "\n",
    "    loss = FocalLoss(y_pred = inputs.contiguous(),y_true = y_true.contiguous())\n",
    "\n",
    "    return loss"
   ]
  },
  {
   "cell_type": "code",
   "execution_count": null,
   "metadata": {},
   "outputs": [],
   "source": [
    "#Set the training parameters here\n",
    "config = {\n",
    "    \"lr\": 0.0003,\n",
    "    \"loss\":\"combo\",\n",
    "    \"batchSize\":10,\n",
    "    \"patchSize\":256,\n",
    "    \"nEpochs\":3,\n",
    "    \"bufferSize\":5,\n",
    "    \"bufferUpdateFreq\":1,\n",
    "    \"bufferPickSize\":3,\n",
    "    \"batchSizeDataLoaderTrain\":1,\n",
    "    \"useRotation\":False,\n",
    "    \"useMirroring\":False,\n",
    "    \"scalingFactor\":10,\n",
    "    \"useOriginal\":True,\n",
    "    \"classCountThreshold\":3,\n",
    "    \"modelParameters\":{\"in_channels\":3, \"out_channels\":24, \"sizes\":[64, 128, 256, 512]},\n",
    "    \"modelName\":\"uNet\"\n",
    "}"
   ]
  },
  {
   "cell_type": "code",
   "execution_count": null,
   "metadata": {},
   "outputs": [],
   "source": [
    "loss_dict = {\n",
    "    \"dice\": DiceLoss,\n",
    "    \"combo\":CriterionCombo,\n",
    "    \"focal\": FocalLoss\n",
    "}\n",
    "\n",
    "model_dict = {\n",
    "    \"uNet\":ut.UNet\n",
    "}"
   ]
  },
  {
   "cell_type": "code",
   "execution_count": null,
   "metadata": {},
   "outputs": [],
   "source": [
    "#batch_sizes = [1, 10]\n",
    "#patch_sizes = \n",
    "#with open(f\"results/result04.txt\",\"a\") as file:\n",
    "#    file.write(\"threshold,accuracy,f1_score\\n\")\n",
    "#file.close()\n",
    "thresholds = [1,2,3,4,5,7]\n",
    "\n",
    "for idx, threshold in enumerate(thresholds):\n",
    "\n",
    "    #Set the iterable parameters\n",
    "    #config[\"patchSize\"] = patch_size\n",
    "    #config[\"batchSize\"] = batch_size\n",
    "    config[\"classCountThreshold\"] = threshold\n",
    "        \n",
    "    try:\n",
    "        crit = loss_dict[config[\"loss\"]]\n",
    "        model = model_dict[config[\"modelName\"]](**config[\"modelParameters\"]).to(device)\n",
    "        model.apply(initialize_weights)\n",
    "        optimizer = optim.Adam(model.parameters(), lr = config[\"lr\"])\n",
    "\n",
    "        #Data set and data loader for the training set\n",
    "        DS_training = ImSegDataSet(PathToDataSet=\"./data/train_set/\",mode = \"train\")\n",
    "        DL_training = DataLoader(dataset=DS_training,batch_size=config[\"batchSizeDataLoaderTrain\"],shuffle=True)\n",
    "\n",
    "        #Data set and data loader for the validation set\n",
    "        print(\"\\n\")\n",
    "        DS_validation = ImSegDataSet(PathToDataSet=\"./data/validation_set/\",mode = \"validation\")\n",
    "        DL_validation = DataLoader(dataset=DS_validation,batch_size=5)\n",
    "\n",
    "        tag = \"test{}\".format(time.strftime(\"%d-%H%M%S\", time.localtime(time.time())))\n",
    "\n",
    "        result = train(\n",
    "            model = model, \n",
    "            dataloader_training = DL_training, \n",
    "            dataLoader_validation = DL_validation,\n",
    "            optimizer = optimizer, \n",
    "            criterion = crit, \n",
    "            device = device, \n",
    "            buffer_size = config[\"bufferSize\"], \n",
    "            buffer_update_freq = config[\"bufferUpdateFreq\"],\n",
    "            buffer_pick_size = config[\"bufferPickSize\"],\n",
    "            n_epochs = config[\"nEpochs\"],\n",
    "            patch_size = config[\"patchSize\"],\n",
    "            batch_size = config[\"batchSize\"],\n",
    "            tag = tag,\n",
    "            rotation = config[\"useRotation\"],\n",
    "            mirroring = config[\"useMirroring\"],\n",
    "            scaling_factor = config[\"scalingFactor\"],\n",
    "            use_original = config[\"useOriginal\"],\n",
    "            threshold=config[\"classCountThreshold\"],\n",
    "            config = config\n",
    "            )\n",
    "\n",
    "        acc = np.loadtxt(\"./results/{}/data/accuracy.txt\".format(tag), skiprows=1)\n",
    "        avg_acc = np.std(acc[-5:])\n",
    "\n",
    "        f1 = np.loadtxt(\"./results/{}/data/F1_score.txt\".format(tag), skiprows=1)\n",
    "        avg_f1 = np.std(f1[-5:])\n",
    "        \n",
    "        with open(f\"results/result04.txt\",\"a+\") as file:\n",
    "            np.savetxt(file,np.array([threshold, avg_acc, avg_f1]))\n",
    "        file.close()    \n",
    "\n",
    "    except RuntimeError:\n",
    "        torch.cuda.empty_cache()\n",
    "        continue"
   ]
  },
  {
   "cell_type": "code",
   "execution_count": null,
   "metadata": {},
   "outputs": [],
   "source": [
    "import numpy as np\n",
    "import matplotlib.pyplot as plt\n",
    "plt.rcParams[\"figure.figsize\"] = (20,4)\n",
    "loss = np.loadtxt(\"./results/test28-184443/data/training_loss.txt\", skiprows=1)\n",
    "plt.plot(np.arange(len(loss)), loss)"
   ]
  },
  {
   "cell_type": "markdown",
   "metadata": {},
   "source": []
  },
  {
   "cell_type": "code",
   "execution_count": null,
   "metadata": {},
   "outputs": [],
   "source": [
    "plt.rcParams[\"figure.figsize\"] = (20,4)\n",
    "loss = np.loadtxt(\"./results/test28-185510/data/training_loss.txt\", skiprows=1)\n",
    "plt.plot(np.arange(len(loss)), loss)"
   ]
  },
  {
   "attachments": {},
   "cell_type": "markdown",
   "metadata": {},
   "source": [
    "Batch size 5, 256x256, lr 0.002"
   ]
  },
  {
   "cell_type": "code",
   "execution_count": null,
   "metadata": {},
   "outputs": [],
   "source": [
    "plt.rcParams[\"figure.figsize\"] = (20,4)\n",
    "loss = np.loadtxt(\"./results/test28-191733/data/training_loss.txt\", skiprows=1)\n",
    "plt.plot(np.arange(len(loss)), loss)"
   ]
  },
  {
   "attachments": {},
   "cell_type": "markdown",
   "metadata": {},
   "source": [
    "Batch size 7, 256x256, lr 0.002"
   ]
  },
  {
   "cell_type": "code",
   "execution_count": null,
   "metadata": {},
   "outputs": [],
   "source": [
    "plt.rcParams[\"figure.figsize\"] = (20,4)\n",
    "loss = np.loadtxt(\"./results/test28-193412/data/training_loss.txt\", skiprows=1)\n",
    "plt.plot(np.arange(len(loss)), loss)"
   ]
  },
  {
   "attachments": {},
   "cell_type": "markdown",
   "metadata": {},
   "source": [
    "Batchsize 10, 128x128, lr 0.003"
   ]
  },
  {
   "cell_type": "code",
   "execution_count": null,
   "metadata": {},
   "outputs": [],
   "source": [
    "plt.rcParams[\"figure.figsize\"] = (20,4)\n",
    "loss = np.loadtxt(\"./results/test28-193412/data/training_loss.txt\", skiprows=1)\n",
    "plt.plot(np.arange(len(loss)), loss)"
   ]
  },
  {
   "attachments": {},
   "cell_type": "markdown",
   "metadata": {},
   "source": [
    "Batchsize 15, 128x128"
   ]
  },
  {
   "cell_type": "code",
   "execution_count": null,
   "metadata": {},
   "outputs": [],
   "source": [
    "plt.rcParams[\"figure.figsize\"] = (20,4)\n",
    "loss = np.loadtxt(\"./results/test31-105802/data/training_loss.txt\", skiprows=1)\n",
    "plt.plot(np.arange(len(loss)), loss)"
   ]
  },
  {
   "attachments": {},
   "cell_type": "markdown",
   "metadata": {},
   "source": [
    "256 x 256, 1 epoch, batch size 2, scaling factor 6, New: Selecting for images with multiple classes (threshold 3)"
   ]
  },
  {
   "cell_type": "code",
   "execution_count": null,
   "metadata": {},
   "outputs": [],
   "source": [
    "plt.rcParams[\"figure.figsize\"] = (20,4)\n",
    "loss = np.loadtxt(\"./results/test31-120614/data/training_loss.txt\", skiprows=1)\n",
    "plt.plot(np.arange(len(loss)), loss)"
   ]
  },
  {
   "attachments": {},
   "cell_type": "markdown",
   "metadata": {},
   "source": [
    "256 x 256, 2 epochs, batch size 5, scaling factor 4, using also original. New: Selecting for images with multiple classes (threshold 3), usage of downscaled dataset only"
   ]
  },
  {
   "cell_type": "code",
   "execution_count": null,
   "metadata": {},
   "outputs": [],
   "source": []
  },
  {
   "attachments": {},
   "cell_type": "markdown",
   "metadata": {},
   "source": [
    "256 x 256, 1 epoch, batch size 10, scaling factor 4, using also original. New: Selecting for images with multiple classes (threshold 3), usage of downscaled dataset only"
   ]
  },
  {
   "cell_type": "code",
   "execution_count": null,
   "metadata": {},
   "outputs": [],
   "source": [
    "xs = [1,2,3,4,5,7]\n",
    "accs = [0.471,0.546,0.447,0.514,0.489,0.482]\n",
    "acc_errs = [0.058,0.125,0.092,0.081,0.068,0.103]\n",
    "plt.errorbar(xs,accs,acc_errs)\n",
    "plt.ylim(0.3,0.7)"
   ]
  },
  {
   "cell_type": "code",
   "execution_count": null,
   "metadata": {},
   "outputs": [],
   "source": [
    "'''\n",
    "class DiceLoss(nn.Module):\n",
    "    def __init__(self, weight=None, size_average=True):\n",
    "        super(DiceLoss, self).__init__()\n",
    "\n",
    "    def forward(self, inputs, targets, smooth=1):\n",
    "        \n",
    "        #comment out if your model contains a sigmoid or equivalent activation layer\n",
    "        #inputs = torch.sigmoid(inputs)\n",
    "        targets = torch.nn.functional.one_hot(targets,24).permute(0,3,1,2).float()       \n",
    "        \n",
    "        #flatten label and prediction tensors\n",
    "        inputs = inputs.flatten()\n",
    "        targets = targets.flatten()\n",
    "        \n",
    "        intersection = (inputs * targets).sum()                            \n",
    "        dice = (2.*intersection + smooth)/(inputs.sum() + targets.sum() + smooth)  \n",
    "        \n",
    "        return 1 - dice\n",
    "'''\n",
    "\n",
    "#crit = CriterionCombo\n",
    "crit = DiceLoss\n",
    "\n",
    "model = ut.UNet(3, 24, [64, 128, 256, 512]).to(device)\n",
    "model.apply(initialize_weights)\n",
    "optimizer = optim.Adam(model.parameters(), lr = 0.0003)\n",
    "\n",
    "#Data set and data loader for the training set\n",
    "DS_training = ImSegDataSet(PathToDataSet=\"./data/train_set/\",mode = \"train\")\n",
    "DL_training = DataLoader(dataset=DS_training,batch_size=1,shuffle=True)\n",
    "\n",
    "#Data set and data loader for the validation set\n",
    "print(\"\\n\")\n",
    "DS_validation = ImSegDataSet(PathToDataSet=\"./data/validation_set/\",mode = \"validation\")\n",
    "DL_validation = DataLoader(dataset=DS_validation,batch_size=5)\n",
    "\n",
    "'''\n",
    "result = train(\n",
    "    model = model, \n",
    "    dataloader_training = DL_training, \n",
    "    dataLoader_validation = DL_validation,\n",
    "    optimizer = optimizer, \n",
    "    criterion = crit, \n",
    "    device = device, \n",
    "    buffer_size = 5, \n",
    "    buffer_update_freq = 5,\n",
    "    buffer_pick_size = 3,\n",
    "    n_epochs = 5,\n",
    "    patch_size = 32,\n",
    "    tag = \"test_run_1_2023-03-20\"\n",
    "    )\n",
    "'''\n",
    "\n",
    "result = train(\n",
    "    model = model, \n",
    "    dataloader_training = DL_training, \n",
    "    dataLoader_validation = DL_validation,\n",
    "    optimizer = optimizer, \n",
    "    criterion = crit, \n",
    "    device = device, \n",
    "    buffer_size = 10, \n",
    "    buffer_update_freq = 1,\n",
    "    buffer_pick_size = 10,\n",
    "    n_epochs = 1,\n",
    "    patch_size = 512,\n",
    "    batch_size = 3,\n",
    "    tag = \"test{}\".format(time.strftime(\"%d-%H%M%S\", time.localtime(time.time()))),\n",
    "    rotation = False,\n",
    "    mirroring = False,\n",
    "    scaling_factor = 10,\n",
    "    use_original = True,\n",
    "    threshold=3\n",
    "    )"
   ]
  },
  {
   "cell_type": "code",
   "execution_count": null,
   "metadata": {},
   "outputs": [],
   "source": []
  }
 ],
 "metadata": {
  "kernelspec": {
   "display_name": "CV3DR",
   "language": "python",
   "name": "python3"
  },
  "language_info": {
   "codemirror_mode": {
    "name": "ipython",
    "version": 3
   },
   "file_extension": ".py",
   "mimetype": "text/x-python",
   "name": "python",
   "nbconvert_exporter": "python",
   "pygments_lexer": "ipython3",
   "version": "3.9.13"
  },
  "orig_nbformat": 4,
  "vscode": {
   "interpreter": {
    "hash": "543859e6cb5676a4c5b97bf94eb858b1a65753f4d65ae5e1e9d924a66f3b0802"
   }
  }
 },
 "nbformat": 4,
 "nbformat_minor": 2
}
