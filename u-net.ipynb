{
 "cells": [
  {
   "cell_type": "code",
   "execution_count": 1,
   "metadata": {},
   "outputs": [],
   "source": [
    "import utils.unet_utils as ut\n",
    "import torch.nn as nn\n",
    "import torch.optim as optim\n",
    "import torch\n",
    "from torch.utils.data import DataLoader\n",
    "from utils.unet_utils import train\n",
    "from DataSet import ImSegDataSet\n",
    "import time"
   ]
  },
  {
   "cell_type": "code",
   "execution_count": 2,
   "metadata": {},
   "outputs": [
    {
     "name": "stdout",
     "output_type": "stream",
     "text": [
      "#########################################################################################\n",
      "INFO ABOUT THE DATA SET:\n",
      "\tMode of the data set:\ttrain\n",
      "\tNumber of instances:\t300\n",
      "\tImage: (C,H,W):\t\t(3,4000,6000)\n",
      "#########################################################################################\n",
      "\n",
      "\n",
      "#########################################################################################\n",
      "INFO ABOUT THE DATA SET:\n",
      "\tMode of the data set:\tvalidation\n",
      "\tNumber of instances:\t50\n",
      "\tImage: (C,H,W):\t\t(3,4000,6000)\n",
      "#########################################################################################\n",
      "Epoch: 1 \n",
      "\n"
     ]
    },
    {
     "name": "stderr",
     "output_type": "stream",
     "text": [
      " 52%|█████▏    | 155/300 [2:37:21<2:27:12, 60.92s/it]\n"
     ]
    },
    {
     "ename": "KeyboardInterrupt",
     "evalue": "",
     "output_type": "error",
     "traceback": [
      "\u001b[1;31m---------------------------------------------------------------------------\u001b[0m",
      "\u001b[1;31mKeyboardInterrupt\u001b[0m                         Traceback (most recent call last)",
      "\u001b[1;32mc:\\Users\\Konstantin\\Documents\\GitHub\\3dcv_final\\u-net.ipynb Cell 2'\u001b[0m in \u001b[0;36m<cell line: 34>\u001b[1;34m()\u001b[0m\n\u001b[0;32m     <a href='vscode-notebook-cell:/c%3A/Users/Konstantin/Documents/GitHub/3dcv_final/u-net.ipynb#ch0000001?line=14'>15</a>\u001b[0m DL_validation \u001b[39m=\u001b[39m DataLoader(dataset\u001b[39m=\u001b[39mDS_validation,batch_size\u001b[39m=\u001b[39m\u001b[39m5\u001b[39m)\n\u001b[0;32m     <a href='vscode-notebook-cell:/c%3A/Users/Konstantin/Documents/GitHub/3dcv_final/u-net.ipynb#ch0000001?line=16'>17</a>\u001b[0m \u001b[39m'''\u001b[39;00m\n\u001b[0;32m     <a href='vscode-notebook-cell:/c%3A/Users/Konstantin/Documents/GitHub/3dcv_final/u-net.ipynb#ch0000001?line=17'>18</a>\u001b[0m \u001b[39mresult = train(\u001b[39;00m\n\u001b[0;32m     <a href='vscode-notebook-cell:/c%3A/Users/Konstantin/Documents/GitHub/3dcv_final/u-net.ipynb#ch0000001?line=18'>19</a>\u001b[0m \u001b[39m    model = model, \u001b[39;00m\n\u001b[1;32m   (...)\u001b[0m\n\u001b[0;32m     <a href='vscode-notebook-cell:/c%3A/Users/Konstantin/Documents/GitHub/3dcv_final/u-net.ipynb#ch0000001?line=30'>31</a>\u001b[0m \u001b[39m    )\u001b[39;00m\n\u001b[0;32m     <a href='vscode-notebook-cell:/c%3A/Users/Konstantin/Documents/GitHub/3dcv_final/u-net.ipynb#ch0000001?line=31'>32</a>\u001b[0m \u001b[39m'''\u001b[39;00m\n\u001b[1;32m---> <a href='vscode-notebook-cell:/c%3A/Users/Konstantin/Documents/GitHub/3dcv_final/u-net.ipynb#ch0000001?line=33'>34</a>\u001b[0m result \u001b[39m=\u001b[39m train(\n\u001b[0;32m     <a href='vscode-notebook-cell:/c%3A/Users/Konstantin/Documents/GitHub/3dcv_final/u-net.ipynb#ch0000001?line=34'>35</a>\u001b[0m     model \u001b[39m=\u001b[39;49m model, \n\u001b[0;32m     <a href='vscode-notebook-cell:/c%3A/Users/Konstantin/Documents/GitHub/3dcv_final/u-net.ipynb#ch0000001?line=35'>36</a>\u001b[0m     dataloader_training \u001b[39m=\u001b[39;49m DL_training, \n\u001b[0;32m     <a href='vscode-notebook-cell:/c%3A/Users/Konstantin/Documents/GitHub/3dcv_final/u-net.ipynb#ch0000001?line=36'>37</a>\u001b[0m     dataLoader_validation \u001b[39m=\u001b[39;49m DL_validation,\n\u001b[0;32m     <a href='vscode-notebook-cell:/c%3A/Users/Konstantin/Documents/GitHub/3dcv_final/u-net.ipynb#ch0000001?line=37'>38</a>\u001b[0m     optimizer \u001b[39m=\u001b[39;49m optimizer, \n\u001b[0;32m     <a href='vscode-notebook-cell:/c%3A/Users/Konstantin/Documents/GitHub/3dcv_final/u-net.ipynb#ch0000001?line=38'>39</a>\u001b[0m     criterion \u001b[39m=\u001b[39;49m crit, \n\u001b[0;32m     <a href='vscode-notebook-cell:/c%3A/Users/Konstantin/Documents/GitHub/3dcv_final/u-net.ipynb#ch0000001?line=39'>40</a>\u001b[0m     device \u001b[39m=\u001b[39;49m device, \n\u001b[0;32m     <a href='vscode-notebook-cell:/c%3A/Users/Konstantin/Documents/GitHub/3dcv_final/u-net.ipynb#ch0000001?line=40'>41</a>\u001b[0m     buffer_size \u001b[39m=\u001b[39;49m \u001b[39m1\u001b[39;49m, \n\u001b[0;32m     <a href='vscode-notebook-cell:/c%3A/Users/Konstantin/Documents/GitHub/3dcv_final/u-net.ipynb#ch0000001?line=41'>42</a>\u001b[0m     buffer_update_freq \u001b[39m=\u001b[39;49m \u001b[39m1\u001b[39;49m,\n\u001b[0;32m     <a href='vscode-notebook-cell:/c%3A/Users/Konstantin/Documents/GitHub/3dcv_final/u-net.ipynb#ch0000001?line=42'>43</a>\u001b[0m     buffer_pick_size \u001b[39m=\u001b[39;49m \u001b[39m1\u001b[39;49m,\n\u001b[0;32m     <a href='vscode-notebook-cell:/c%3A/Users/Konstantin/Documents/GitHub/3dcv_final/u-net.ipynb#ch0000001?line=43'>44</a>\u001b[0m     n_epochs \u001b[39m=\u001b[39;49m \u001b[39m5\u001b[39;49m,\n\u001b[0;32m     <a href='vscode-notebook-cell:/c%3A/Users/Konstantin/Documents/GitHub/3dcv_final/u-net.ipynb#ch0000001?line=44'>45</a>\u001b[0m     patch_size \u001b[39m=\u001b[39;49m \u001b[39m512\u001b[39;49m,\n\u001b[0;32m     <a href='vscode-notebook-cell:/c%3A/Users/Konstantin/Documents/GitHub/3dcv_final/u-net.ipynb#ch0000001?line=45'>46</a>\u001b[0m     tag \u001b[39m=\u001b[39;49m \u001b[39m\"\u001b[39;49m\u001b[39mtest\u001b[39;49m\u001b[39m{}\u001b[39;49;00m\u001b[39m\"\u001b[39;49m\u001b[39m.\u001b[39;49mformat(time\u001b[39m.\u001b[39;49mtime()),\n\u001b[0;32m     <a href='vscode-notebook-cell:/c%3A/Users/Konstantin/Documents/GitHub/3dcv_final/u-net.ipynb#ch0000001?line=46'>47</a>\u001b[0m     rotation \u001b[39m=\u001b[39;49m \u001b[39mFalse\u001b[39;49;00m,\n\u001b[0;32m     <a href='vscode-notebook-cell:/c%3A/Users/Konstantin/Documents/GitHub/3dcv_final/u-net.ipynb#ch0000001?line=47'>48</a>\u001b[0m     mirroring \u001b[39m=\u001b[39;49m \u001b[39mFalse\u001b[39;49;00m\n\u001b[0;32m     <a href='vscode-notebook-cell:/c%3A/Users/Konstantin/Documents/GitHub/3dcv_final/u-net.ipynb#ch0000001?line=48'>49</a>\u001b[0m     )\n",
      "File \u001b[1;32mc:\\Users\\Konstantin\\Documents\\GitHub\\3dcv_final\\utils\\unet_utils.py:170\u001b[0m, in \u001b[0;36mtrain\u001b[1;34m(model, dataloader_training, dataLoader_validation, optimizer, criterion, device, buffer_size, buffer_update_freq, buffer_pick_size, n_epochs, patch_size, tag, rotation, mirroring)\u001b[0m\n\u001b[0;32m    <a href='file:///c%3A/Users/Konstantin/Documents/GitHub/3dcv_final/utils/unet_utils.py?line=167'>168</a>\u001b[0m \u001b[39mif\u001b[39;00m storage_training_loss\u001b[39m.\u001b[39mshape[\u001b[39m0\u001b[39m]\u001b[39m-\u001b[39m\u001b[39m1\u001b[39m \u001b[39m==\u001b[39m counter_training_loss:\n\u001b[0;32m    <a href='file:///c%3A/Users/Konstantin/Documents/GitHub/3dcv_final/utils/unet_utils.py?line=168'>169</a>\u001b[0m     \u001b[39mwith\u001b[39;00m \u001b[39mopen\u001b[39m(\u001b[39mf\u001b[39m\u001b[39m\"\u001b[39m\u001b[39mresults/\u001b[39m\u001b[39m{\u001b[39;00mtag\u001b[39m}\u001b[39;00m\u001b[39m/data/training_loss.txt\u001b[39m\u001b[39m\"\u001b[39m,\u001b[39m\"\u001b[39m\u001b[39ma+\u001b[39m\u001b[39m\"\u001b[39m) \u001b[39mas\u001b[39;00m file:\n\u001b[1;32m--> <a href='file:///c%3A/Users/Konstantin/Documents/GitHub/3dcv_final/utils/unet_utils.py?line=169'>170</a>\u001b[0m         np\u001b[39m.\u001b[39msavetxt(file,storage_training_loss\u001b[39m.\u001b[39;49mto(\u001b[39m\"\u001b[39;49m\u001b[39mcpu\u001b[39;49m\u001b[39m\"\u001b[39;49m)\u001b[39m.\u001b[39mnumpy())\n\u001b[0;32m    <a href='file:///c%3A/Users/Konstantin/Documents/GitHub/3dcv_final/utils/unet_utils.py?line=170'>171</a>\u001b[0m     file\u001b[39m.\u001b[39mclose()\n\u001b[0;32m    <a href='file:///c%3A/Users/Konstantin/Documents/GitHub/3dcv_final/utils/unet_utils.py?line=171'>172</a>\u001b[0m     counter_training_loss \u001b[39m=\u001b[39m \u001b[39m0\u001b[39m\n",
      "\u001b[1;31mKeyboardInterrupt\u001b[0m: "
     ]
    }
   ],
   "source": [
    "#Use the cross entropy loss, since we have more than two classes per pixel\n",
    "device = torch.device('cuda' if torch.cuda.is_available() else 'cpu')\n",
    "#device = torch.device('cpu')\n",
    "crit = nn.CrossEntropyLoss()\n",
    "model = ut.UNet(3, 24, [64, 128, 256, 512]).to(device)\n",
    "optimizer = optim.Adam(model.parameters())\n",
    "\n",
    "#Data set and data loader for the training set\n",
    "DS_training = ImSegDataSet(PathToDataSet=\"./data/train_set/\",mode = \"train\")\n",
    "DL_training = DataLoader(dataset=DS_training,batch_size=1,shuffle=True)\n",
    "\n",
    "#Data set and data loader for the validation set\n",
    "print(\"\\n\")\n",
    "DS_validation = ImSegDataSet(PathToDataSet=\"./data/validation_set/\",mode = \"validation\")\n",
    "DL_validation = DataLoader(dataset=DS_validation,batch_size=5)\n",
    "\n",
    "'''\n",
    "result = train(\n",
    "    model = model, \n",
    "    dataloader_training = DL_training, \n",
    "    dataLoader_validation = DL_validation,\n",
    "    optimizer = optimizer, \n",
    "    criterion = crit, \n",
    "    device = device, \n",
    "    buffer_size = 5, \n",
    "    buffer_update_freq = 5,\n",
    "    buffer_pick_size = 3,\n",
    "    n_epochs = 5,\n",
    "    patch_size = 32,\n",
    "    tag = \"test_run_1_2023-03-20\"\n",
    "    )\n",
    "'''\n",
    "\n",
    "result = train(\n",
    "    model = model, \n",
    "    dataloader_training = DL_training, \n",
    "    dataLoader_validation = DL_validation,\n",
    "    optimizer = optimizer, \n",
    "    criterion = crit, \n",
    "    device = device, \n",
    "    buffer_size = 1, \n",
    "    buffer_update_freq = 1,\n",
    "    buffer_pick_size = 1,\n",
    "    n_epochs = 5,\n",
    "    patch_size = 512,\n",
    "    tag = \"test{}\".format(time.time()),\n",
    "    rotation = False,\n",
    "    mirroring = False\n",
    "    )"
   ]
  },
  {
   "cell_type": "code",
   "execution_count": null,
   "metadata": {},
   "outputs": [],
   "source": []
  }
 ],
 "metadata": {
  "interpreter": {
   "hash": "ef75a7637332af20315f48265226f4f22ed145d4eff3c0fc93dbc2d47fd214e4"
  },
  "kernelspec": {
   "display_name": "Python 3.9.12 ('ML_env')",
   "language": "python",
   "name": "python3"
  },
  "language_info": {
   "codemirror_mode": {
    "name": "ipython",
    "version": 3
   },
   "file_extension": ".py",
   "mimetype": "text/x-python",
   "name": "python",
   "nbconvert_exporter": "python",
   "pygments_lexer": "ipython3",
   "version": "3.9.12"
  },
  "orig_nbformat": 4
 },
 "nbformat": 4,
 "nbformat_minor": 2
}
