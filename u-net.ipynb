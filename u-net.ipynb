{
 "cells": [
  {
   "cell_type": "code",
   "execution_count": null,
   "metadata": {},
   "outputs": [],
   "source": [
    "import utils.unet_utils as ut\n",
    "import torch.nn as nn\n",
    "import torch.optim as optim\n",
    "import torch\n",
    "from torch.utils.data import DataLoader\n",
    "from utils.unet_utils import train\n",
    "from DataSet import ImSegDataSet\n",
    "import time\n",
    "!pip install -U segmentation-models-pytorch\n",
    "import segmentation_models_pytorch as smp"
   ]
  },
  {
   "cell_type": "code",
   "execution_count": null,
   "metadata": {},
   "outputs": [],
   "source": [
    "def initialize_weights(m):\n",
    "  if isinstance(m, nn.Conv2d):\n",
    "      nn.init.xavier_normal_(m.weight.data)\n",
    "  elif isinstance(m, nn.ConvTranspose2d):\n",
    "      nn.init.xavier_normal_(m.weight.data)"
   ]
  },
  {
   "cell_type": "code",
   "execution_count": null,
   "metadata": {},
   "outputs": [],
   "source": [
    "#Use the cross entropy loss, since we have more than two classes per pixel\n",
    "device = torch.device('cuda' if torch.cuda.is_available() else 'cpu')\n",
    "\n",
    "def CriterionCombo(input,target):\n",
    "\n",
    "    #Get One Hot encoding of the true labels\n",
    "    y_true = torch.nn.functional.one_hot(target,24).permute(0,3,1,2).float()\n",
    "\n",
    "    assert y_true.shape == input.shape\n",
    "    \n",
    "    BCELoss = smp.losses.SoftBCEWithLogitsLoss()\n",
    "    TverskyLoss = smp.losses.TverskyLoss(mode = 'multilabel', log_loss = False)\n",
    "\n",
    "    L1 = BCELoss(y_pred = input,y_true = y_true)\n",
    "    L2 = TverskyLoss(y_pred = input,y_true = y_true)\n",
    "\n",
    "    loss = 0.5 * L1 + 0.5 * L2\n",
    "\n",
    "    return loss\n",
    "\n",
    "crit = CriterionCombo\n",
    "\n",
    "model = ut.UNet(3, 24, [64, 128, 256, 512]).to(device)\n",
    "model.apply(initialize_weights)\n",
    "optimizer = optim.Adam(model.parameters(), lr = 0.001)\n",
    "\n",
    "#Data set and data loader for the training set\n",
    "DS_training = ImSegDataSet(PathToDataSet=\"./data/train_set/\",mode = \"train\")\n",
    "DL_training = DataLoader(dataset=DS_training,batch_size=1,shuffle=True)\n",
    "\n",
    "#Data set and data loader for the validation set\n",
    "print(\"\\n\")\n",
    "DS_validation = ImSegDataSet(PathToDataSet=\"./data/validation_set/\",mode = \"validation\")\n",
    "DL_validation = DataLoader(dataset=DS_validation,batch_size=5)\n",
    "\n",
    "'''\n",
    "result = train(\n",
    "    model = model, \n",
    "    dataloader_training = DL_training, \n",
    "    dataLoader_validation = DL_validation,\n",
    "    optimizer = optimizer, \n",
    "    criterion = crit, \n",
    "    device = device, \n",
    "    buffer_size = 5, \n",
    "    buffer_update_freq = 5,\n",
    "    buffer_pick_size = 3,\n",
    "    n_epochs = 5,\n",
    "    patch_size = 32,\n",
    "    tag = \"test_run_1_2023-03-20\"\n",
    "    )\n",
    "'''\n",
    "\n",
    "result = train(\n",
    "    model = model, \n",
    "    dataloader_training = DL_training, \n",
    "    dataLoader_validation = DL_validation,\n",
    "    optimizer = optimizer, \n",
    "    criterion = crit, \n",
    "    device = device, \n",
    "    buffer_size = 1, \n",
    "    buffer_update_freq = 1,\n",
    "    buffer_pick_size = 1,\n",
    "    n_epochs = 5,\n",
    "    patch_size = 128,\n",
    "    tag = \"test{}\".format(time.strftime(\"%d-%H%M%S\", time.gmtime(time.time()))),\n",
    "    rotation = False,\n",
    "    mirroring = False,\n",
    "    scaling_factor = 30\n",
    "    )"
   ]
  },
  {
   "cell_type": "code",
   "execution_count": null,
   "metadata": {},
   "outputs": [],
   "source": [
    "import numpy as np\n",
    "import matplotlib.pyplot as plt\n",
    "plt.rcParams[\"figure.figsize\"] = (20,4)\n",
    "loss = np.loadtxt(\"./results/test26-224155/data/training_loss.txt\", skiprows=1)\n",
    "plt.plot(np.arange(len(loss)), loss)"
   ]
  },
  {
   "cell_type": "code",
   "execution_count": null,
   "metadata": {},
   "outputs": [],
   "source": []
  }
 ],
 "metadata": {
  "interpreter": {
   "hash": "ef75a7637332af20315f48265226f4f22ed145d4eff3c0fc93dbc2d47fd214e4"
  },
  "kernelspec": {
   "display_name": "Python 3.9.12 ('ML_env')",
   "language": "python",
   "name": "python3"
  },
  "language_info": {
   "codemirror_mode": {
    "name": "ipython",
    "version": 3
   },
   "file_extension": ".py",
   "mimetype": "text/x-python",
   "name": "python",
   "nbconvert_exporter": "python",
   "pygments_lexer": "ipython3",
   "version": "3.9.13"
  },
  "orig_nbformat": 4
 },
 "nbformat": 4,
 "nbformat_minor": 2
}
