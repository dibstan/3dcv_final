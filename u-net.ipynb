{
 "cells": [
  {
   "cell_type": "code",
   "execution_count": 1,
   "metadata": {},
   "outputs": [],
   "source": [
    "import torch.nn as nn\n",
    "import torch.optim as optim\n",
    "import torch\n",
    "from torch.utils.data import DataLoader\n",
    "from DataSet import ImSegDataSet\n",
    "import time\n",
    "import segmentation_models_pytorch as smp\n",
    "import numpy as np\n",
    "import utils.unet_utils as ut"
   ]
  },
  {
   "cell_type": "code",
   "execution_count": 2,
   "metadata": {},
   "outputs": [],
   "source": [
    "def initialize_weights(m):\n",
    "  if isinstance(m, nn.Conv2d):\n",
    "      nn.init.xavier_normal_(m.weight.data)\n",
    "  elif isinstance(m, nn.ConvTranspose2d):\n",
    "      nn.init.xavier_normal_(m.weight.data)"
   ]
  },
  {
   "cell_type": "code",
   "execution_count": 3,
   "metadata": {},
   "outputs": [],
   "source": [
    "#Losses \n",
    "\n",
    "from utils.unet_utils import train\n",
    "\n",
    "#Use the cross entropy loss, since we have more than two classes per pixel\n",
    "device = torch.device('cuda' if torch.cuda.is_available() else 'cpu')\n",
    "\n",
    "def CriterionCombo(inputs,targets):\n",
    "\n",
    "    #Get One Hot encoding of the true labels\n",
    "    y_true = torch.nn.functional.one_hot(targets,24).permute(0,3,1,2).float()\n",
    "\n",
    "    assert y_true.shape == inputs.shape\n",
    "    \n",
    "    BCELoss = smp.losses.SoftBCEWithLogitsLoss()\n",
    "    TverskyLoss = smp.losses.TverskyLoss(mode = 'multilabel', log_loss = False)\n",
    "\n",
    "    L1 = BCELoss(y_pred = inputs,y_true = y_true)\n",
    "    L2 = TverskyLoss(y_pred = inputs,y_true = y_true)\n",
    "\n",
    "    loss = 0.5 * L1 + 0.5 * L2\n",
    "\n",
    "    return loss\n",
    "\n",
    "'''\n",
    "class DiceLoss(nn.Module):\n",
    "    def __init__(self, weight=None, size_average=True):\n",
    "        super(DiceLoss, self).__init__()\n",
    "\n",
    "    def forward(self, inputs, targets, smooth=1):\n",
    "        \n",
    "        #comment out if your model contains a sigmoid or equivalent activation layer\n",
    "        #inputs = torch.sigmoid(inputs)\n",
    "        targets = torch.nn.functional.one_hot(targets,24).permute(0,3,1,2).float()       \n",
    "        \n",
    "        #flatten label and prediction tensors\n",
    "        inputs = inputs.flatten()\n",
    "        targets = targets.flatten()\n",
    "        \n",
    "        intersection = (inputs * targets).sum()                            \n",
    "        dice = (2.*intersection + smooth)/(inputs.sum() + targets.sum() + smooth)  \n",
    "        \n",
    "        return 1 - dice\n",
    "'''\n",
    "\n",
    "def DiceLoss(inputs,targets):\n",
    "    \n",
    "    #Use Tversky loss with alpha = beta = 0.5 for dice loss\n",
    "    #This has the advantage of working better with possible class imbalance\n",
    "\n",
    "    #Get One Hot encoding of the true labels\n",
    "    y_true = torch.nn.functional.one_hot(targets,24).permute(0,3,1,2).float()\n",
    "\n",
    "    assert y_true.shape == inputs.shape\n",
    "    TverskyLoss = smp.losses.TverskyLoss(mode = 'multilabel', log_loss = False)\n",
    "\n",
    "    loss = TverskyLoss(y_pred = inputs,y_true = y_true)\n",
    "\n",
    "    return loss\n"
   ]
  },
  {
   "cell_type": "code",
   "execution_count": null,
   "metadata": {},
   "outputs": [],
   "source": [
    "#crit = CriterionCombo\n",
    "crit = DiceLoss\n",
    "\n",
    "model = ut.UNet(3, 24, [64, 128, 256, 512]).to(device)\n",
    "model.apply(initialize_weights)\n",
    "optimizer = optim.Adam(model.parameters(), lr = 0.0003)\n",
    "\n",
    "#Data set and data loader for the training set\n",
    "DS_training = ImSegDataSet(PathToDataSet=\"./data/train_set/\",mode = \"train\")\n",
    "DL_training = DataLoader(dataset=DS_training,batch_size=1,shuffle=True)\n",
    "\n",
    "#Data set and data loader for the validation set\n",
    "print(\"\\n\")\n",
    "DS_validation = ImSegDataSet(PathToDataSet=\"./data/validation_set/\",mode = \"validation\")\n",
    "DL_validation = DataLoader(dataset=DS_validation,batch_size=5)\n",
    "\n",
    "'''\n",
    "result = train(\n",
    "    model = model, \n",
    "    dataloader_training = DL_training, \n",
    "    dataLoader_validation = DL_validation,\n",
    "    optimizer = optimizer, \n",
    "    criterion = crit, \n",
    "    device = device, \n",
    "    buffer_size = 5, \n",
    "    buffer_update_freq = 5,\n",
    "    buffer_pick_size = 3,\n",
    "    n_epochs = 5,\n",
    "    patch_size = 32,\n",
    "    tag = \"test_run_1_2023-03-20\"\n",
    "    )\n",
    "'''\n",
    "\n",
    "result = train(\n",
    "    model = model, \n",
    "    dataloader_training = DL_training, \n",
    "    dataLoader_validation = DL_validation,\n",
    "    optimizer = optimizer, \n",
    "    criterion = crit, \n",
    "    device = device, \n",
    "    buffer_size = 10, \n",
    "    buffer_update_freq = 1,\n",
    "    buffer_pick_size = 10,\n",
    "    n_epochs = 1,\n",
    "    patch_size = 512,\n",
    "    batch_size = 3,\n",
    "    tag = \"test{}\".format(time.strftime(\"%d-%H%M%S\", time.localtime(time.time()))),\n",
    "    rotation = False,\n",
    "    mirroring = False,\n",
    "    scaling_factor = 10,\n",
    "    use_original = True,\n",
    "    threshold=3\n",
    "    )"
   ]
  },
  {
   "cell_type": "code",
   "execution_count": 4,
   "metadata": {},
   "outputs": [
    {
     "name": "stdout",
     "output_type": "stream",
     "text": [
      "#########################################################################################\n",
      "INFO ABOUT THE DATA SET:\n",
      "\tMode of the data set:\ttrain\n",
      "\tNumber of instances:\t300\n",
      "\tImage: (C,H,W):\t\t(3,571,857)\n",
      "#########################################################################################\n",
      "\n",
      "\n",
      "#########################################################################################\n",
      "INFO ABOUT THE DATA SET:\n",
      "\tMode of the data set:\tvalidation\n",
      "\tNumber of instances:\t50\n",
      "\tImage: (C,H,W):\t\t(3,571,857)\n",
      "#########################################################################################\n",
      "Epoch: 1 \n",
      "\n"
     ]
    },
    {
     "name": "stderr",
     "output_type": "stream",
     "text": [
      "  2%|▏         | 5/300 [00:10<11:15,  2.29s/it]"
     ]
    },
    {
     "name": "stdout",
     "output_type": "stream",
     "text": [
      "#########################################################################################\n",
      "\tNumber of images created from each image:\t18\n",
      "\tShape of image batch:\ttorch.Size([18, 3, 256, 256])\n",
      "#########################################################################################\n"
     ]
    },
    {
     "name": "stderr",
     "output_type": "stream",
     "text": [
      "100%|██████████| 300/300 [11:16<00:00,  2.25s/it]\n"
     ]
    },
    {
     "name": "stdout",
     "output_type": "stream",
     "text": [
      "Epoch: 2 \n",
      "\n"
     ]
    },
    {
     "name": "stderr",
     "output_type": "stream",
     "text": [
      "100%|██████████| 300/300 [10:57<00:00,  2.19s/it]\n"
     ]
    },
    {
     "name": "stdout",
     "output_type": "stream",
     "text": [
      "Epoch: 3 \n",
      "\n"
     ]
    },
    {
     "name": "stderr",
     "output_type": "stream",
     "text": [
      "100%|██████████| 300/300 [11:06<00:00,  2.22s/it]\n"
     ]
    },
    {
     "name": "stdout",
     "output_type": "stream",
     "text": [
      "Epoch: 4 \n",
      "\n"
     ]
    },
    {
     "name": "stderr",
     "output_type": "stream",
     "text": [
      " 34%|███▍      | 102/300 [03:55<11:04,  3.36s/it]"
     ]
    }
   ],
   "source": [
    "#patch_sizes = [128, 256, 512]\n",
    "#patch_sizes = [128, 128, 128, 128, 256, 256, 256, 256, 512, 512, 512, 512]\n",
    "patch_sizes = [256, 256]\n",
    "#batch_sizes = [1, 2, 5, 10]\n",
    "#batch_sizes = [1, 2, 5, 10, 1, 2, 5, 10, 1, 2, 5, 10]\n",
    "batch_sizes = [1, 10]\n",
    "with open(f\"results/result02.txt\",\"a\") as file:\n",
    "    file.write(\"batch_size,patch_size,accuracy,f1_score\\n\")\n",
    "file.close()\n",
    "\n",
    "for idx, patch_size in enumerate(patch_sizes):\n",
    "    batch_size = batch_sizes[idx]\n",
    "        \n",
    "    try:\n",
    "        crit = DiceLoss\n",
    "        model = ut.UNet(3, 24, [64, 128, 256, 512]).to(device)\n",
    "        model.apply(initialize_weights)\n",
    "        optimizer = optim.Adam(model.parameters(), lr = 0.0003)\n",
    "\n",
    "        #Data set and data loader for the training set\n",
    "        DS_training = ImSegDataSet(PathToDataSet=\"./data/train_set/\",mode = \"train\")\n",
    "        DL_training = DataLoader(dataset=DS_training,batch_size=1,shuffle=True)\n",
    "\n",
    "        #Data set and data loader for the validation set\n",
    "        print(\"\\n\")\n",
    "        DS_validation = ImSegDataSet(PathToDataSet=\"./data/validation_set/\",mode = \"validation\")\n",
    "        DL_validation = DataLoader(dataset=DS_validation,batch_size=5)\n",
    "\n",
    "        tag = \"test{}\".format(time.strftime(\"%d-%H%M%S\", time.localtime(time.time())))\n",
    "\n",
    "        result = train(\n",
    "            model = model, \n",
    "            dataloader_training = DL_training, \n",
    "            dataLoader_validation = DL_validation,\n",
    "            optimizer = optimizer, \n",
    "            criterion = crit, \n",
    "            device = device, \n",
    "            buffer_size = 5, \n",
    "            buffer_update_freq = 1,\n",
    "            buffer_pick_size = 3,\n",
    "            n_epochs = 5,\n",
    "            patch_size = patch_size,\n",
    "            batch_size = batch_size,\n",
    "            tag = tag,\n",
    "            rotation = False,\n",
    "            mirroring = False,\n",
    "            scaling_factor = 10,\n",
    "            use_original = True,\n",
    "            threshold=3\n",
    "            )\n",
    "        \n",
    "        acc = np.loadtxt(\"./results/{}/data/accuracy.txt\".format(tag), skiprows=1)\n",
    "        avg_acc = np.mean(acc[-5:])\n",
    "\n",
    "        f1 = np.loadtxt(\"./results/{}/data/F1_score.txt\".format(tag), skiprows=1)\n",
    "        avg_f1 = np.mean(f1[-5:])\n",
    "        \n",
    "        with open(f\"results/result01.txt\",\"a+\") as file:\n",
    "            np.savetxt(file,np.array([batch_size, patch_size, avg_acc, avg_f1]))\n",
    "        file.close()    \n",
    "\n",
    "    except RuntimeError:\n",
    "        torch.cuda.empty_cache()\n",
    "        continue"
   ]
  },
  {
   "cell_type": "code",
   "execution_count": null,
   "metadata": {},
   "outputs": [],
   "source": [
    "import numpy as np\n",
    "import matplotlib.pyplot as plt\n",
    "plt.rcParams[\"figure.figsize\"] = (20,4)\n",
    "loss = np.loadtxt(\"./results/test28-184443/data/training_loss.txt\", skiprows=1)\n",
    "plt.plot(np.arange(len(loss)), loss)"
   ]
  },
  {
   "cell_type": "markdown",
   "metadata": {},
   "source": []
  },
  {
   "cell_type": "code",
   "execution_count": null,
   "metadata": {},
   "outputs": [],
   "source": [
    "plt.rcParams[\"figure.figsize\"] = (20,4)\n",
    "loss = np.loadtxt(\"./results/test28-185510/data/training_loss.txt\", skiprows=1)\n",
    "plt.plot(np.arange(len(loss)), loss)"
   ]
  },
  {
   "attachments": {},
   "cell_type": "markdown",
   "metadata": {},
   "source": [
    "Batch size 5, 256x256, lr 0.002"
   ]
  },
  {
   "cell_type": "code",
   "execution_count": null,
   "metadata": {},
   "outputs": [],
   "source": [
    "plt.rcParams[\"figure.figsize\"] = (20,4)\n",
    "loss = np.loadtxt(\"./results/test28-191733/data/training_loss.txt\", skiprows=1)\n",
    "plt.plot(np.arange(len(loss)), loss)"
   ]
  },
  {
   "attachments": {},
   "cell_type": "markdown",
   "metadata": {},
   "source": [
    "Batch size 7, 256x256, lr 0.002"
   ]
  },
  {
   "cell_type": "code",
   "execution_count": null,
   "metadata": {},
   "outputs": [],
   "source": [
    "plt.rcParams[\"figure.figsize\"] = (20,4)\n",
    "loss = np.loadtxt(\"./results/test28-193412/data/training_loss.txt\", skiprows=1)\n",
    "plt.plot(np.arange(len(loss)), loss)"
   ]
  },
  {
   "attachments": {},
   "cell_type": "markdown",
   "metadata": {},
   "source": [
    "Batchsize 10, 128x128, lr 0.003"
   ]
  },
  {
   "cell_type": "code",
   "execution_count": null,
   "metadata": {},
   "outputs": [],
   "source": [
    "plt.rcParams[\"figure.figsize\"] = (20,4)\n",
    "loss = np.loadtxt(\"./results/test28-193412/data/training_loss.txt\", skiprows=1)\n",
    "plt.plot(np.arange(len(loss)), loss)"
   ]
  },
  {
   "attachments": {},
   "cell_type": "markdown",
   "metadata": {},
   "source": [
    "Batchsize 15, 128x128"
   ]
  },
  {
   "cell_type": "code",
   "execution_count": null,
   "metadata": {},
   "outputs": [],
   "source": [
    "plt.rcParams[\"figure.figsize\"] = (20,4)\n",
    "loss = np.loadtxt(\"./results/test31-105802/data/training_loss.txt\", skiprows=1)\n",
    "plt.plot(np.arange(len(loss)), loss)"
   ]
  },
  {
   "attachments": {},
   "cell_type": "markdown",
   "metadata": {},
   "source": [
    "256 x 256, 1 epoch, batch size 2, scaling factor 6, New: Selecting for images with multiple classes (threshold 3)"
   ]
  },
  {
   "cell_type": "code",
   "execution_count": null,
   "metadata": {},
   "outputs": [],
   "source": [
    "plt.rcParams[\"figure.figsize\"] = (20,4)\n",
    "loss = np.loadtxt(\"./results/test31-120614/data/training_loss.txt\", skiprows=1)\n",
    "plt.plot(np.arange(len(loss)), loss)"
   ]
  },
  {
   "attachments": {},
   "cell_type": "markdown",
   "metadata": {},
   "source": [
    "256 x 256, 2 epochs, batch size 5, scaling factor 4, using also original. New: Selecting for images with multiple classes (threshold 3), usage of downscaled dataset only"
   ]
  },
  {
   "cell_type": "code",
   "execution_count": null,
   "metadata": {},
   "outputs": [],
   "source": []
  },
  {
   "attachments": {},
   "cell_type": "markdown",
   "metadata": {},
   "source": [
    "256 x 256, 1 epoch, batch size 10, scaling factor 4, using also original. New: Selecting for images with multiple classes (threshold 3), usage of downscaled dataset only"
   ]
  }
 ],
 "metadata": {
  "kernelspec": {
   "display_name": "CV3DR",
   "language": "python",
   "name": "python3"
  },
  "language_info": {
   "codemirror_mode": {
    "name": "ipython",
    "version": 3
   },
   "file_extension": ".py",
   "mimetype": "text/x-python",
   "name": "python",
   "nbconvert_exporter": "python",
   "pygments_lexer": "ipython3",
   "version": "3.9.13"
  },
  "orig_nbformat": 4,
  "vscode": {
   "interpreter": {
    "hash": "543859e6cb5676a4c5b97bf94eb858b1a65753f4d65ae5e1e9d924a66f3b0802"
   }
  }
 },
 "nbformat": 4,
 "nbformat_minor": 2
}
