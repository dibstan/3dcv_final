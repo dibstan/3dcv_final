{
 "cells": [
  {
   "cell_type": "code",
   "execution_count": 1,
   "metadata": {},
   "outputs": [
    {
     "name": "stdout",
     "output_type": "stream",
     "text": [
      "Requirement already satisfied: segmentation-models-pytorch in c:\\users\\konstantin\\anaconda3\\envs\\ml_env\\lib\\site-packages (0.3.2)\n",
      "Requirement already satisfied: pillow in c:\\users\\konstantin\\anaconda3\\envs\\ml_env\\lib\\site-packages (from segmentation-models-pytorch) (9.0.1)\n",
      "Requirement already satisfied: timm==0.6.12 in c:\\users\\konstantin\\anaconda3\\envs\\ml_env\\lib\\site-packages (from segmentation-models-pytorch) (0.6.12)\n",
      "Requirement already satisfied: torchvision>=0.5.0 in c:\\users\\konstantin\\anaconda3\\envs\\ml_env\\lib\\site-packages (from segmentation-models-pytorch) (0.12.0)\n",
      "Requirement already satisfied: pretrainedmodels==0.7.4 in c:\\users\\konstantin\\anaconda3\\envs\\ml_env\\lib\\site-packages (from segmentation-models-pytorch) (0.7.4)\n",
      "Requirement already satisfied: efficientnet-pytorch==0.7.1 in c:\\users\\konstantin\\anaconda3\\envs\\ml_env\\lib\\site-packages (from segmentation-models-pytorch) (0.7.1)\n",
      "Requirement already satisfied: tqdm in c:\\users\\konstantin\\anaconda3\\envs\\ml_env\\lib\\site-packages (from segmentation-models-pytorch) (4.64.0)\n",
      "Requirement already satisfied: torch in c:\\users\\konstantin\\anaconda3\\envs\\ml_env\\lib\\site-packages (from efficientnet-pytorch==0.7.1->segmentation-models-pytorch) (1.11.0)\n",
      "Requirement already satisfied: munch in c:\\users\\konstantin\\anaconda3\\envs\\ml_env\\lib\\site-packages (from pretrainedmodels==0.7.4->segmentation-models-pytorch) (2.5.0)\n",
      "Requirement already satisfied: pyyaml in c:\\users\\konstantin\\anaconda3\\envs\\ml_env\\lib\\site-packages (from timm==0.6.12->segmentation-models-pytorch) (6.0)\n",
      "Requirement already satisfied: huggingface-hub in c:\\users\\konstantin\\anaconda3\\envs\\ml_env\\lib\\site-packages (from timm==0.6.12->segmentation-models-pytorch) (0.13.3)\n",
      "Requirement already satisfied: typing_extensions in c:\\users\\konstantin\\anaconda3\\envs\\ml_env\\lib\\site-packages (from torch->efficientnet-pytorch==0.7.1->segmentation-models-pytorch) (4.1.1)\n",
      "Requirement already satisfied: numpy in c:\\users\\konstantin\\anaconda3\\envs\\ml_env\\lib\\site-packages (from torchvision>=0.5.0->segmentation-models-pytorch) (1.21.5)\n",
      "Requirement already satisfied: requests in c:\\users\\konstantin\\anaconda3\\envs\\ml_env\\lib\\site-packages (from torchvision>=0.5.0->segmentation-models-pytorch) (2.27.1)\n",
      "Requirement already satisfied: filelock in c:\\users\\konstantin\\anaconda3\\envs\\ml_env\\lib\\site-packages (from huggingface-hub->timm==0.6.12->segmentation-models-pytorch) (3.10.6)\n",
      "Requirement already satisfied: packaging>=20.9 in c:\\users\\konstantin\\anaconda3\\envs\\ml_env\\lib\\site-packages (from huggingface-hub->timm==0.6.12->segmentation-models-pytorch) (21.3)\n",
      "Requirement already satisfied: pyparsing!=3.0.5,>=2.0.2 in c:\\users\\konstantin\\anaconda3\\envs\\ml_env\\lib\\site-packages (from packaging>=20.9->huggingface-hub->timm==0.6.12->segmentation-models-pytorch) (3.0.4)\n",
      "Requirement already satisfied: colorama in c:\\users\\konstantin\\anaconda3\\envs\\ml_env\\lib\\site-packages (from tqdm->segmentation-models-pytorch) (0.4.4)\n",
      "Requirement already satisfied: six in c:\\users\\konstantin\\anaconda3\\envs\\ml_env\\lib\\site-packages (from munch->pretrainedmodels==0.7.4->segmentation-models-pytorch) (1.16.0)\n",
      "Requirement already satisfied: charset-normalizer~=2.0.0 in c:\\users\\konstantin\\anaconda3\\envs\\ml_env\\lib\\site-packages (from requests->torchvision>=0.5.0->segmentation-models-pytorch) (2.0.4)\n",
      "Requirement already satisfied: certifi>=2017.4.17 in c:\\users\\konstantin\\anaconda3\\envs\\ml_env\\lib\\site-packages (from requests->torchvision>=0.5.0->segmentation-models-pytorch) (2022.12.7)\n",
      "Requirement already satisfied: urllib3<1.27,>=1.21.1 in c:\\users\\konstantin\\anaconda3\\envs\\ml_env\\lib\\site-packages (from requests->torchvision>=0.5.0->segmentation-models-pytorch) (1.26.9)\n",
      "Requirement already satisfied: idna<4,>=2.5 in c:\\users\\konstantin\\anaconda3\\envs\\ml_env\\lib\\site-packages (from requests->torchvision>=0.5.0->segmentation-models-pytorch) (3.3)\n"
     ]
    }
   ],
   "source": [
    "import utils.unet_utils as ut\n",
    "import torch.nn as nn\n",
    "import torch.optim as optim\n",
    "import torch\n",
    "from torch.utils.data import DataLoader\n",
    "from utils.unet_utils import train\n",
    "from DataSet import ImSegDataSet\n",
    "import time\n",
    "!pip install -U segmentation-models-pytorch\n",
    "import segmentation_models_pytorch as smp"
   ]
  },
  {
   "cell_type": "code",
   "execution_count": 2,
   "metadata": {},
   "outputs": [],
   "source": [
    "def initialize_weights(m):\n",
    "  if isinstance(m, nn.Conv2d):\n",
    "      nn.init.xavier_normal_(m.weight.data)\n",
    "  elif isinstance(m, nn.ConvTranspose2d):\n",
    "      nn.init.xavier_normal_(m.weight.data)"
   ]
  },
  {
   "cell_type": "code",
   "execution_count": 3,
   "metadata": {},
   "outputs": [
    {
     "name": "stdout",
     "output_type": "stream",
     "text": [
      "#########################################################################################\n",
      "INFO ABOUT THE DATA SET:\n",
      "\tMode of the data set:\ttrain\n",
      "\tNumber of instances:\t300\n",
      "\tImage: (C,H,W):\t\t(3,4000,6000)\n",
      "#########################################################################################\n",
      "\n",
      "\n",
      "#########################################################################################\n",
      "INFO ABOUT THE DATA SET:\n",
      "\tMode of the data set:\tvalidation\n",
      "\tNumber of instances:\t50\n",
      "\tImage: (C,H,W):\t\t(3,4000,6000)\n",
      "#########################################################################################\n",
      "Epoch: 1 \n",
      "\n"
     ]
    },
    {
     "name": "stderr",
     "output_type": "stream",
     "text": [
      "100%|██████████| 10/10 [00:13<00:00,  1.40s/it]\n"
     ]
    },
    {
     "name": "stdout",
     "output_type": "stream",
     "text": [
      "torch.Size([2, 128, 128])\n",
      "torch.Size([2, 24, 128, 128])\n",
      "torch.Size([3, 128, 128])\n",
      "torch.Size([2, 128, 128])\n",
      "torch.Size([2, 24, 128, 128])\n",
      "torch.Size([3, 128, 128])\n",
      "Epoch: 2 \n",
      "\n"
     ]
    },
    {
     "name": "stderr",
     "output_type": "stream",
     "text": [
      "100%|██████████| 10/10 [00:13<00:00,  1.40s/it]\n"
     ]
    },
    {
     "ename": "TypeError",
     "evalue": "'AxesSubplot' object is not subscriptable",
     "output_type": "error",
     "traceback": [
      "\u001b[1;31m---------------------------------------------------------------------------\u001b[0m",
      "\u001b[1;31mTypeError\u001b[0m                                 Traceback (most recent call last)",
      "\u001b[1;32mc:\\Users\\Konstantin\\Documents\\GitHub\\3dcv_final\\u-net.ipynb Cell 3'\u001b[0m in \u001b[0;36m<cell line: 53>\u001b[1;34m()\u001b[0m\n\u001b[0;32m     <a href='vscode-notebook-cell:/c%3A/Users/Konstantin/Documents/GitHub/3dcv_final/u-net.ipynb#ch0000002?line=33'>34</a>\u001b[0m DL_validation \u001b[39m=\u001b[39m DataLoader(dataset\u001b[39m=\u001b[39mDS_validation,batch_size\u001b[39m=\u001b[39m\u001b[39m5\u001b[39m)\n\u001b[0;32m     <a href='vscode-notebook-cell:/c%3A/Users/Konstantin/Documents/GitHub/3dcv_final/u-net.ipynb#ch0000002?line=35'>36</a>\u001b[0m \u001b[39m'''\u001b[39;00m\n\u001b[0;32m     <a href='vscode-notebook-cell:/c%3A/Users/Konstantin/Documents/GitHub/3dcv_final/u-net.ipynb#ch0000002?line=36'>37</a>\u001b[0m \u001b[39mresult = train(\u001b[39;00m\n\u001b[0;32m     <a href='vscode-notebook-cell:/c%3A/Users/Konstantin/Documents/GitHub/3dcv_final/u-net.ipynb#ch0000002?line=37'>38</a>\u001b[0m \u001b[39m    model = model, \u001b[39;00m\n\u001b[1;32m   (...)\u001b[0m\n\u001b[0;32m     <a href='vscode-notebook-cell:/c%3A/Users/Konstantin/Documents/GitHub/3dcv_final/u-net.ipynb#ch0000002?line=49'>50</a>\u001b[0m \u001b[39m    )\u001b[39;00m\n\u001b[0;32m     <a href='vscode-notebook-cell:/c%3A/Users/Konstantin/Documents/GitHub/3dcv_final/u-net.ipynb#ch0000002?line=50'>51</a>\u001b[0m \u001b[39m'''\u001b[39;00m\n\u001b[1;32m---> <a href='vscode-notebook-cell:/c%3A/Users/Konstantin/Documents/GitHub/3dcv_final/u-net.ipynb#ch0000002?line=52'>53</a>\u001b[0m result \u001b[39m=\u001b[39m train(\n\u001b[0;32m     <a href='vscode-notebook-cell:/c%3A/Users/Konstantin/Documents/GitHub/3dcv_final/u-net.ipynb#ch0000002?line=53'>54</a>\u001b[0m     model \u001b[39m=\u001b[39;49m model, \n\u001b[0;32m     <a href='vscode-notebook-cell:/c%3A/Users/Konstantin/Documents/GitHub/3dcv_final/u-net.ipynb#ch0000002?line=54'>55</a>\u001b[0m     dataloader_training \u001b[39m=\u001b[39;49m DL_training, \n\u001b[0;32m     <a href='vscode-notebook-cell:/c%3A/Users/Konstantin/Documents/GitHub/3dcv_final/u-net.ipynb#ch0000002?line=55'>56</a>\u001b[0m     dataLoader_validation \u001b[39m=\u001b[39;49m DL_validation,\n\u001b[0;32m     <a href='vscode-notebook-cell:/c%3A/Users/Konstantin/Documents/GitHub/3dcv_final/u-net.ipynb#ch0000002?line=56'>57</a>\u001b[0m     optimizer \u001b[39m=\u001b[39;49m optimizer, \n\u001b[0;32m     <a href='vscode-notebook-cell:/c%3A/Users/Konstantin/Documents/GitHub/3dcv_final/u-net.ipynb#ch0000002?line=57'>58</a>\u001b[0m     criterion \u001b[39m=\u001b[39;49m crit, \n\u001b[0;32m     <a href='vscode-notebook-cell:/c%3A/Users/Konstantin/Documents/GitHub/3dcv_final/u-net.ipynb#ch0000002?line=58'>59</a>\u001b[0m     device \u001b[39m=\u001b[39;49m device, \n\u001b[0;32m     <a href='vscode-notebook-cell:/c%3A/Users/Konstantin/Documents/GitHub/3dcv_final/u-net.ipynb#ch0000002?line=59'>60</a>\u001b[0m     buffer_size \u001b[39m=\u001b[39;49m \u001b[39m1\u001b[39;49m, \n\u001b[0;32m     <a href='vscode-notebook-cell:/c%3A/Users/Konstantin/Documents/GitHub/3dcv_final/u-net.ipynb#ch0000002?line=60'>61</a>\u001b[0m     buffer_update_freq \u001b[39m=\u001b[39;49m \u001b[39m1\u001b[39;49m,\n\u001b[0;32m     <a href='vscode-notebook-cell:/c%3A/Users/Konstantin/Documents/GitHub/3dcv_final/u-net.ipynb#ch0000002?line=61'>62</a>\u001b[0m     buffer_pick_size \u001b[39m=\u001b[39;49m \u001b[39m1\u001b[39;49m,\n\u001b[0;32m     <a href='vscode-notebook-cell:/c%3A/Users/Konstantin/Documents/GitHub/3dcv_final/u-net.ipynb#ch0000002?line=62'>63</a>\u001b[0m     n_epochs \u001b[39m=\u001b[39;49m \u001b[39m5\u001b[39;49m,\n\u001b[0;32m     <a href='vscode-notebook-cell:/c%3A/Users/Konstantin/Documents/GitHub/3dcv_final/u-net.ipynb#ch0000002?line=63'>64</a>\u001b[0m     patch_size \u001b[39m=\u001b[39;49m \u001b[39m128\u001b[39;49m,\n\u001b[0;32m     <a href='vscode-notebook-cell:/c%3A/Users/Konstantin/Documents/GitHub/3dcv_final/u-net.ipynb#ch0000002?line=64'>65</a>\u001b[0m     tag \u001b[39m=\u001b[39;49m \u001b[39m\"\u001b[39;49m\u001b[39mtest\u001b[39;49m\u001b[39m{}\u001b[39;49;00m\u001b[39m\"\u001b[39;49m\u001b[39m.\u001b[39;49mformat(time\u001b[39m.\u001b[39;49mstrftime(\u001b[39m\"\u001b[39;49m\u001b[39m%d\u001b[39;49;00m\u001b[39m-\u001b[39;49m\u001b[39m%\u001b[39;49m\u001b[39mH\u001b[39;49m\u001b[39m%\u001b[39;49m\u001b[39mM\u001b[39;49m\u001b[39m%\u001b[39;49m\u001b[39mS\u001b[39;49m\u001b[39m\"\u001b[39;49m, time\u001b[39m.\u001b[39;49mgmtime(time\u001b[39m.\u001b[39;49mtime()))),\n\u001b[0;32m     <a href='vscode-notebook-cell:/c%3A/Users/Konstantin/Documents/GitHub/3dcv_final/u-net.ipynb#ch0000002?line=65'>66</a>\u001b[0m     rotation \u001b[39m=\u001b[39;49m \u001b[39mFalse\u001b[39;49;00m,\n\u001b[0;32m     <a href='vscode-notebook-cell:/c%3A/Users/Konstantin/Documents/GitHub/3dcv_final/u-net.ipynb#ch0000002?line=66'>67</a>\u001b[0m     mirroring \u001b[39m=\u001b[39;49m \u001b[39mFalse\u001b[39;49;00m,\n\u001b[0;32m     <a href='vscode-notebook-cell:/c%3A/Users/Konstantin/Documents/GitHub/3dcv_final/u-net.ipynb#ch0000002?line=67'>68</a>\u001b[0m     scaling_factor \u001b[39m=\u001b[39;49m \u001b[39m20\u001b[39;49m\n\u001b[0;32m     <a href='vscode-notebook-cell:/c%3A/Users/Konstantin/Documents/GitHub/3dcv_final/u-net.ipynb#ch0000002?line=68'>69</a>\u001b[0m     )\n",
      "File \u001b[1;32mc:\\Users\\Konstantin\\Documents\\GitHub\\3dcv_final\\utils\\unet_utils.py:196\u001b[0m, in \u001b[0;36mtrain\u001b[1;34m(model, dataloader_training, dataLoader_validation, optimizer, criterion, device, buffer_size, buffer_update_freq, buffer_pick_size, n_epochs, patch_size, tag, rotation, mirroring, scaling_factor)\u001b[0m\n\u001b[0;32m    <a href='file:///c%3A/Users/Konstantin/Documents/GitHub/3dcv_final/utils/unet_utils.py?line=193'>194</a>\u001b[0m fig, ax \u001b[39m=\u001b[39m plt\u001b[39m.\u001b[39msubplots(buffer_images\u001b[39m.\u001b[39msize,\u001b[39m2\u001b[39m,figsize \u001b[39m=\u001b[39m (\u001b[39m10\u001b[39m,\u001b[39m30\u001b[39m))\n\u001b[0;32m    <a href='file:///c%3A/Users/Konstantin/Documents/GitHub/3dcv_final/utils/unet_utils.py?line=194'>195</a>\u001b[0m \u001b[39mfor\u001b[39;00m i \u001b[39min\u001b[39;00m \u001b[39mrange\u001b[39m(buffer_images\u001b[39m.\u001b[39msize):\n\u001b[1;32m--> <a href='file:///c%3A/Users/Konstantin/Documents/GitHub/3dcv_final/utils/unet_utils.py?line=195'>196</a>\u001b[0m     ax[i][\u001b[39m0\u001b[39;49m]\u001b[39m.\u001b[39mimshow(buffer_images\u001b[39m.\u001b[39minternal_storage[i]\u001b[39m.\u001b[39mint()\u001b[39m.\u001b[39mtranspose(\u001b[39m0\u001b[39m,\u001b[39m2\u001b[39m)\u001b[39m.\u001b[39mtranspose(\u001b[39m0\u001b[39m,\u001b[39m1\u001b[39m)\u001b[39m.\u001b[39mnumpy())\n\u001b[0;32m    <a href='file:///c%3A/Users/Konstantin/Documents/GitHub/3dcv_final/utils/unet_utils.py?line=196'>197</a>\u001b[0m     ax[i][\u001b[39m1\u001b[39m]\u001b[39m.\u001b[39mimshow(buffer_labels\u001b[39m.\u001b[39minternal_storage[i]\u001b[39m.\u001b[39mint()\u001b[39m.\u001b[39mnumpy())\n\u001b[0;32m    <a href='file:///c%3A/Users/Konstantin/Documents/GitHub/3dcv_final/utils/unet_utils.py?line=197'>198</a>\u001b[0m plt\u001b[39m.\u001b[39msavefig(\u001b[39mf\u001b[39m\u001b[39m\"\u001b[39m\u001b[39mresults/\u001b[39m\u001b[39m{\u001b[39;00mtag\u001b[39m}\u001b[39;00m\u001b[39m/images/buffer_im_\u001b[39m\u001b[39m{\u001b[39;00mepoch\u001b[39m}\u001b[39;00m\u001b[39m.jpg\u001b[39m\u001b[39m\"\u001b[39m)\n",
      "\u001b[1;31mTypeError\u001b[0m: 'AxesSubplot' object is not subscriptable"
     ]
    },
    {
     "data": {
      "image/png": "[encoded data removed]",
      "text/plain": [
       "<Figure size 720x2160 with 2 Axes>"
      ]
     },
     "metadata": {
      "needs_background": "light"
     },
     "output_type": "display_data"
    }
   ],
   "source": [
    "#Use the cross entropy loss, since we have more than two classes per pixel\n",
    "device = torch.device('cuda' if torch.cuda.is_available() else 'cpu')\n",
    "\n",
    "def CriterionCombo(input,target):\n",
    "\n",
    "    #Get One Hot encoding of the true labels\n",
    "    y_true = torch.nn.functional.one_hot(target,24).permute(0,3,1,2).float()\n",
    "\n",
    "    assert y_true.shape == input.shape\n",
    "    \n",
    "    BCELoss = smp.losses.SoftBCEWithLogitsLoss()\n",
    "    TverskyLoss = smp.losses.TverskyLoss(mode = 'multilabel', log_loss = False)\n",
    "\n",
    "    L1 = BCELoss(y_pred = input,y_true = y_true)\n",
    "    L2 = TverskyLoss(y_pred = input,y_true = y_true)\n",
    "\n",
    "    loss = 0.5 * L1 + 0.5 * L2\n",
    "\n",
    "    return loss\n",
    "\n",
    "crit = CriterionCombo\n",
    "\n",
    "model = ut.UNet(3, 24, [64, 128, 256, 512]).to(device)\n",
    "model.apply(initialize_weights)\n",
    "optimizer = optim.Adam(model.parameters(), lr = 0.001)\n",
    "\n",
    "#Data set and data loader for the training set\n",
    "DS_training = ImSegDataSet(PathToDataSet=\"./data/train_set/\",mode = \"train\")\n",
    "DL_training = DataLoader(dataset=DS_training,batch_size=1,shuffle=True)\n",
    "\n",
    "#Data set and data loader for the validation set\n",
    "print(\"\\n\")\n",
    "DS_validation = ImSegDataSet(PathToDataSet=\"./data/validation_set/\",mode = \"validation\")\n",
    "DL_validation = DataLoader(dataset=DS_validation,batch_size=5)\n",
    "\n",
    "'''\n",
    "result = train(\n",
    "    model = model, \n",
    "    dataloader_training = DL_training, \n",
    "    dataLoader_validation = DL_validation,\n",
    "    optimizer = optimizer, \n",
    "    criterion = crit, \n",
    "    device = device, \n",
    "    buffer_size = 5, \n",
    "    buffer_update_freq = 5,\n",
    "    buffer_pick_size = 3,\n",
    "    n_epochs = 5,\n",
    "    patch_size = 32,\n",
    "    tag = \"test_run_1_2023-03-20\"\n",
    "    )\n",
    "'''\n",
    "\n",
    "result = train(\n",
    "    model = model, \n",
    "    dataloader_training = DL_training, \n",
    "    dataLoader_validation = DL_validation,\n",
    "    optimizer = optimizer, \n",
    "    criterion = crit, \n",
    "    device = device, \n",
    "    buffer_size = 2, \n",
    "    buffer_update_freq = 1,\n",
    "    buffer_pick_size = 1,\n",
    "    n_epochs = 5,\n",
    "    patch_size = 128,\n",
    "    tag = \"test{}\".format(time.strftime(\"%d-%H%M%S\", time.gmtime(time.time()))),\n",
    "    rotation = False,\n",
    "    mirroring = False,\n",
    "    scaling_factor = 20\n",
    "    )"
   ]
  },
  {
   "cell_type": "code",
   "execution_count": null,
   "metadata": {},
   "outputs": [],
   "source": [
    "import numpy as np\n",
    "import matplotlib.pyplot as plt\n",
    "plt.rcParams[\"figure.figsize\"] = (20,4)\n",
    "loss = np.loadtxt(\"./results/test26-224155/data/training_loss.txt\", skiprows=1)\n",
    "plt.plot(np.arange(len(loss)), loss)"
   ]
  },
  {
   "cell_type": "code",
   "execution_count": null,
   "metadata": {},
   "outputs": [],
   "source": []
  }
 ],
 "metadata": {
  "interpreter": {
   "hash": "ef75a7637332af20315f48265226f4f22ed145d4eff3c0fc93dbc2d47fd214e4"
  },
  "kernelspec": {
   "display_name": "Python 3.9.12 ('ML_env')",
   "language": "python",
   "name": "python3"
  },
  "language_info": {
   "codemirror_mode": {
    "name": "ipython",
    "version": 3
   },
   "file_extension": ".py",
   "mimetype": "text/x-python",
   "name": "python",
   "nbconvert_exporter": "python",
   "pygments_lexer": "ipython3",
   "version": "3.9.12"
  },
  "orig_nbformat": 4
 },
 "nbformat": 4,
 "nbformat_minor": 2
}
